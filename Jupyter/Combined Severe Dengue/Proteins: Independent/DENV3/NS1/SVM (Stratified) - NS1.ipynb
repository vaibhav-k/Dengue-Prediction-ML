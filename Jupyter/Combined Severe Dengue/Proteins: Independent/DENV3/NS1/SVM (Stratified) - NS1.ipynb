{
 "cells": [
  {
   "cell_type": "code",
   "execution_count": 1,
   "metadata": {},
   "outputs": [],
   "source": [
    "# Importing the necessary libraries\n",
    "import pandas as pd\n",
    "import matplotlib.pyplot as plt"
   ]
  },
  {
   "cell_type": "code",
   "execution_count": 2,
   "metadata": {},
   "outputs": [],
   "source": [
    "# Importing the protein data\n",
    "k2 = []\n",
    "k2d = []\n",
    "\n",
    "f = open(\"../../../../../../Data/Proteins/DENV3/NS1/DENV3_NS1.txt\", \"r\")\n",
    "for x in f:\n",
    "    if \"DSS\" in x:\n",
    "        k2d.append(1)\n",
    "    elif \"DHF\" in x:\n",
    "        k2d.append(1)\n",
    "    elif x[0] == \">\":\n",
    "        k2d.append(0)\n",
    "    else:\n",
    "        x = x.replace(\"\\n\", \"\")\n",
    "        k2.append(x)\n",
    "        \n",
    "# Converting the array into DataFrame\n",
    "k2 = pd.DataFrame(k2)\n",
    "\n",
    "# Attaching the \"Disease\" label column to the input\n",
    "k2[\"Disease\"] = k2d\n",
    "\n",
    "# Renaming the columns\n",
    "k2 = k2.rename(index=str, columns={0: \"Sequence\", \"Disease\": \"Disease\"})\n",
    "\n",
    "# clearing the memory\n",
    "del k2d"
   ]
  },
  {
   "cell_type": "code",
   "execution_count": 3,
   "metadata": {},
   "outputs": [
    {
     "name": "stdout",
     "output_type": "stream",
     "text": [
      "The combined shape of the given data is: (472, 2)\n",
      "The length of the combined data is: 472\n",
      "Does the combined data have any null value? -> False\n"
     ]
    }
   ],
   "source": [
    "print(\"The combined shape of the given data is:\", str(k2.shape))\n",
    "print(\"The length of the combined data is:\", str(len(k2.index)))\n",
    "print(\"Does the combined data have any null value? ->\", k2.isnull().values.any())\n",
    "\n",
    "k2 = k2.dropna(how = 'any', axis = 0) \n",
    "\n",
    "# Shuffling the data\n",
    "k2 = k2.sample(frac = 1)"
   ]
  },
  {
   "cell_type": "code",
   "execution_count": 4,
   "metadata": {},
   "outputs": [],
   "source": [
    "# Function to convert sequence strings into k-mer words, default size = 6 (hexamer words)\n",
    "def getKmers(sequence, size = 6):\n",
    "    return [sequence[x:x + size].lower() for x in range(len(sequence) - size + 1)]\n",
    "\n",
    "k2['words'] = k2.apply(lambda x: getKmers(x['Sequence']), axis = 1)\n",
    "k2 = k2.drop('Sequence', axis=1)\n",
    "\n",
    "k2_texts = list(k2['words'])\n",
    "for item in range(len(k2_texts)):\n",
    "    k2_texts[item] = ' '.join(k2_texts[item])"
   ]
  },
  {
   "cell_type": "code",
   "execution_count": 5,
   "metadata": {},
   "outputs": [
    {
     "data": {
      "image/png": "[encoded data removed]",
      "text/plain": [
       "<Figure size 432x288 with 1 Axes>"
      ]
     },
     "metadata": {
      "needs_background": "light"
     },
     "output_type": "display_data"
    }
   ],
   "source": [
    "# Creating y and printing the shape of it\n",
    "y = k2.iloc[:, 0].values\n",
    "k2[\"Disease\"].value_counts().sort_index().plot.bar()\n",
    "\n",
    "# clearing the memory\n",
    "del k2"
   ]
  },
  {
   "cell_type": "code",
   "execution_count": 6,
   "metadata": {},
   "outputs": [],
   "source": [
    "# Creating the Bag of Words model using CountVectorizer()\n",
    "# This is equivalent to k-mer counting\n",
    "# The n-gram size of 4 was previously determined by testing\n",
    "from sklearn.feature_extraction.text import CountVectorizer\n",
    "cv = CountVectorizer(ngram_range=(4,4))\n",
    "x = cv.fit_transform(k2_texts)\n",
    "\n",
    "# clearing the memory\n",
    "del cv"
   ]
  },
  {
   "cell_type": "code",
   "execution_count": 7,
   "metadata": {},
   "outputs": [
    {
     "name": "stdout",
     "output_type": "stream",
     "text": [
      "The shape of x_train is: (377, 1323)\n",
      "The shape of y_train is: (377,)\n",
      "The shape of x_test is: (95, 1323)\n",
      "The shape of y_test is: (95,)\n"
     ]
    }
   ],
   "source": [
    "# Splitting the human dataset into the training set and test set\n",
    "from sklearn.model_selection import train_test_split\n",
    "X_train, X_test, y_train, y_test = train_test_split(x, y, test_size=0.2, random_state = 42, stratify=y)\n",
    "\n",
    "# Printing the shapes of the train and test matrices\n",
    "print(\"The shape of x_train is:\", X_train.shape)\n",
    "print(\"The shape of y_train is:\", y_train.shape)\n",
    "print(\"The shape of x_test is:\", X_test.shape)\n",
    "print(\"The shape of y_test is:\", y_test.shape)\n",
    "\n",
    "# clearing the memory\n",
    "del x\n",
    "del y"
   ]
  },
  {
   "cell_type": "markdown",
   "metadata": {},
   "source": [
    "## SVM"
   ]
  },
  {
   "cell_type": "code",
   "execution_count": 8,
   "metadata": {
    "scrolled": true
   },
   "outputs": [],
   "source": [
    "# Fitting SVM to the Training set\n",
    "from sklearn.svm import SVC\n",
    "classifier = SVC(kernel = 'linear', random_state = 0, C = 0.1)\n",
    "classifier.fit(X_train, y_train)\n",
    "\n",
    "# Predicting the Test set results\n",
    "y_pred = classifier.predict(X_test)\n",
    "\n",
    "# clearing the memory\n",
    "del classifier\n",
    "del X_train\n",
    "del X_test\n",
    "del y_train"
   ]
  },
  {
   "cell_type": "code",
   "execution_count": 9,
   "metadata": {},
   "outputs": [
    {
     "name": "stdout",
     "output_type": "stream",
     "text": [
      "Confusion matrix\n",
      "Predicted   0  1\n",
      "Actual          \n",
      "0          76  0\n",
      "1          15  4\n",
      "\n",
      "accuracy = 0.8421052631578947 \n",
      "precision = 0.8681318681318682 \n",
      "recall = 0.8421052631578947 \n",
      "f1 = 0.7977089299661546\n"
     ]
    }
   ],
   "source": [
    "from sklearn.metrics import accuracy_score, f1_score, precision_score, recall_score\n",
    "print(\"Confusion matrix\")\n",
    "print(pd.crosstab(pd.Series(y_test, name='Actual'), pd.Series(y_pred, name='Predicted')))\n",
    "\n",
    "def get_metrics(y_test, y_predicted):\n",
    "    accuracy = accuracy_score(y_test, y_predicted)\n",
    "    precision = precision_score(y_test, y_predicted, average='weighted')\n",
    "    recall = recall_score(y_test, y_predicted, average='weighted')\n",
    "    f1 = f1_score(y_test, y_predicted, average='weighted')\n",
    "    return accuracy, precision, recall, f1\n",
    "\n",
    "accuracy, precision, recall, f1 = get_metrics(y_test, y_pred)\n",
    "print(\"\\naccuracy = {} \\nprecision = {} \\nrecall = {} \\nf1 = {}\".format(accuracy, precision, recall, f1))\n",
    "\n",
    "# clearing the memory\n",
    "del y_pred\n",
    "del accuracy\n",
    "del recall\n",
    "del f1\n",
    "del precision"
   ]
  }
 ],
 "metadata": {
  "kernelspec": {
   "display_name": "Python 3",
   "language": "python",
   "name": "python3"
  },
  "language_info": {
   "codemirror_mode": {
    "name": "ipython",
    "version": 3
   },
   "file_extension": ".py",
   "mimetype": "text/x-python",
   "name": "python",
   "nbconvert_exporter": "python",
   "pygments_lexer": "ipython3",
   "version": "3.6.9"
  }
 },
 "nbformat": 4,
 "nbformat_minor": 2
}
