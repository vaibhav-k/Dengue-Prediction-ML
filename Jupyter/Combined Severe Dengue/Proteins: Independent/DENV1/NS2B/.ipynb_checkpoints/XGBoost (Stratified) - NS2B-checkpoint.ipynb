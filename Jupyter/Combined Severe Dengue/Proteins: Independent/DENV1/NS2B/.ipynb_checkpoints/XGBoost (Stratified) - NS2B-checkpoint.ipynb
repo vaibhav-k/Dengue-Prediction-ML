{
 "cells": [
  {
   "cell_type": "code",
   "execution_count": 1,
   "metadata": {},
   "outputs": [],
   "source": [
    "# Importing the necessary libraries\n",
    "import pandas as pd\n",
    "import matplotlib.pyplot as plt"
   ]
  },
  {
   "cell_type": "code",
   "execution_count": 2,
   "metadata": {},
   "outputs": [],
   "source": [
    "# Importing the proteins data\n",
    "ns2b = []\n",
    "ns2bd = []\n",
    "       \n",
    "f = open(\"../../../../../../Data/Proteins/DENV1/NS2B/DENV1_NS2B.txt\", \"r\")\n",
    "for x in f:\n",
    "    if \"DSS\" in x:\n",
    "        ns2bd.append(1)\n",
    "    elif \"DHF\" in x:\n",
    "        ns2bd.append(1)\n",
    "    elif x[0] == \">\":\n",
    "        ns2bd.append(0)\n",
    "    else:\n",
    "        x = x.replace(\"\\n\", \"\")\n",
    "        ns2b.append(x)\n",
    "        \n",
    "# Converting the array into DataFrame\n",
    "ns2b = pd.DataFrame(ns2b)\n",
    "\n",
    "# Attaching the \"Disease\" label column to the input\n",
    "ns2b[\"Disease\"] = ns2bd\n",
    "\n",
    "# Renaming the columns\n",
    "ns2b = ns2b.rename(index=str, columns={0: \"Sequence\", \"Disease\": \"Disease\"})\n",
    "\n",
    "# clearing the memory\n",
    "del ns2bd"
   ]
  },
  {
   "cell_type": "code",
   "execution_count": 3,
   "metadata": {},
   "outputs": [
    {
     "name": "stdout",
     "output_type": "stream",
     "text": [
      "The combined shape of the given data is: (999, 2)\n",
      "The length of the combined data is: 999\n",
      "Does the combined data have any null value? -> False\n"
     ]
    }
   ],
   "source": [
    "print(\"The combined shape of the given data is:\", str(ns2b.shape))\n",
    "print(\"The length of the combined data is:\", str(len(ns2b.index)))\n",
    "print(\"Does the combined data have any null value? ->\", ns2b.isnull().values.any())\n",
    "\n",
    "ns2b = ns2b.dropna(how = 'any',axis = 0) \n",
    "\n",
    "# Shuffling the data and then taking a peek\n",
    "ns2b = ns2b.sample(frac = 1)"
   ]
  },
  {
   "cell_type": "code",
   "execution_count": 4,
   "metadata": {},
   "outputs": [],
   "source": [
    "# Function to convert sequence strings into k-mer words, default size = 6 (hexamer words)\n",
    "def getKmers(sequence, size = 6):\n",
    "    return [sequence[x:x + size].lower() for x in range(len(sequence) - size + 1)]\n",
    "\n",
    "ns2b['words'] = ns2b.apply(lambda x: getKmers(x['Sequence']), axis=1)\n",
    "ns2b = ns2b.drop('Sequence', axis=1)\n",
    "\n",
    "ns2b_texts = list(ns2b['words'])\n",
    "for item in range(len(ns2b_texts)):\n",
    "    ns2b_texts[item] = ' '.join(ns2b_texts[item])"
   ]
  },
  {
   "cell_type": "code",
   "execution_count": 5,
   "metadata": {},
   "outputs": [
    {
     "name": "stdout",
     "output_type": "stream",
     "text": [
      "The shape of y is: (999,)\n"
     ]
    }
   ],
   "source": [
    "# Creating y and printing the shape of it\n",
    "y = ns2b.iloc[:, 0].values\n",
    "print(\"The shape of y is:\", y.shape)\n",
    "\n",
    "# clearing the memory\n",
    "del ns2b"
   ]
  },
  {
   "cell_type": "code",
   "execution_count": 6,
   "metadata": {},
   "outputs": [],
   "source": [
    "# Creating the Bag of Words model using CountVectorizer()\n",
    "# This is equivalent to k-mer counting\n",
    "# The n-gram size of 4 was previously determined by testing\n",
    "from sklearn.feature_extraction.text import CountVectorizer\n",
    "cv = CountVectorizer(ngram_range=(4,4))\n",
    "x = cv.fit_transform(ns2b_texts)\n",
    "\n",
    "# clearing the memory\n",
    "del cv"
   ]
  },
  {
   "cell_type": "code",
   "execution_count": 7,
   "metadata": {},
   "outputs": [
    {
     "name": "stdout",
     "output_type": "stream",
     "text": [
      "The shape of x_train is: (799, 643)\n",
      "The shape of y_train is: (799,)\n",
      "The shape of x_test is: (200, 643)\n",
      "The shape of y_test is: (200,)\n"
     ]
    }
   ],
   "source": [
    "# Splitting the human dataset into the training set and test set\n",
    "from sklearn.model_selection import train_test_split\n",
    "X_train, X_test, y_train, y_test = train_test_split(x, y, test_size=0.2, random_state = 42, stratify=y)\n",
    "\n",
    "# Printing the shapes of the train and test matrices\n",
    "print(\"The shape of x_train is:\", X_train.shape)\n",
    "print(\"The shape of y_train is:\", y_train.shape)\n",
    "print(\"The shape of x_test is:\", X_test.shape)\n",
    "print(\"The shape of y_test is:\", y_test.shape)\n",
    "\n",
    "# clearing the memory\n",
    "del x\n",
    "del y"
   ]
  },
  {
   "cell_type": "markdown",
   "metadata": {},
   "source": [
    "## XGBoost"
   ]
  },
  {
   "cell_type": "code",
   "execution_count": 8,
   "metadata": {},
   "outputs": [],
   "source": [
    "# Initialising the training process\n",
    "import xgboost as xgb\n",
    "D_train = xgb.DMatrix(X_train, label=y_train)\n",
    "D_test = xgb.DMatrix(X_test, label=y_test)\n",
    "\n",
    "# Defining the parameters\n",
    "param = {\n",
    "    'eta': 0.1, \n",
    "    'max_depth': 3,  \n",
    "    'objective': 'multi:softprob',  \n",
    "    'num_class': 2} \n",
    "\n",
    "steps = 20  # The number of training iterations\n",
    "\n",
    "# Train the model\n",
    "model = xgb.train(param, D_train, steps)\n",
    "\n",
    "# clearing the memory\n",
    "del steps\n",
    "del param\n",
    "del D_train"
   ]
  },
  {
   "cell_type": "code",
   "execution_count": 9,
   "metadata": {},
   "outputs": [
    {
     "name": "stdout",
     "output_type": "stream",
     "text": [
      "accuracy = 0.6\n",
      "precision = 0.3\n",
      "recall = 0.5\n"
     ]
    },
    {
     "name": "stderr",
     "output_type": "stream",
     "text": [
      "/usr/local/lib/python3.6/dist-packages/sklearn/metrics/classification.py:1437: UndefinedMetricWarning: Precision is ill-defined and being set to 0.0 in labels with no predicted samples.\n",
      "  'precision', 'predicted', average, warn_for)\n"
     ]
    }
   ],
   "source": [
    "# Metrics\n",
    "from sklearn.metrics import precision_score, recall_score, accuracy_score\n",
    "import numpy as np\n",
    "\n",
    "preds = model.predict(D_test)\n",
    "best_preds = np.asarray([np.argmax(line) for line in preds])\n",
    "\n",
    "print(\"accuracy = {}\".format(accuracy_score(y_test, best_preds)))\n",
    "print(\"precision = {}\".format(precision_score(y_test, best_preds, average='macro')))\n",
    "print(\"recall = {}\".format(recall_score(y_test, best_preds, average='macro')))\n",
    "\n",
    "# clearing the memory\n",
    "del preds\n",
    "del best_preds\n",
    "del model\n",
    "del D_test"
   ]
  }
 ],
 "metadata": {
  "kernelspec": {
   "display_name": "Python 3",
   "language": "python",
   "name": "python3"
  },
  "language_info": {
   "codemirror_mode": {
    "name": "ipython",
    "version": 3
   },
   "file_extension": ".py",
   "mimetype": "text/x-python",
   "name": "python",
   "nbconvert_exporter": "python",
   "pygments_lexer": "ipython3",
   "version": "3.6.9"
  }
 },
 "nbformat": 4,
 "nbformat_minor": 2
}
